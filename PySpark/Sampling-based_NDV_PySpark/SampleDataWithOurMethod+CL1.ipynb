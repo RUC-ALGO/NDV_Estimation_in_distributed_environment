{
 "cells": [
  {
   "cell_type": "code",
   "execution_count": 1,
   "metadata": {},
   "outputs": [
    {
     "data": {
      "text/plain": [
       "<pyspark.conf.SparkConf at 0x7f110a35b588>"
      ]
     },
     "execution_count": 1,
     "metadata": {},
     "output_type": "execute_result"
    }
   ],
   "source": [
    "import os\n",
    "memory = '200g'\n",
    "pyspark_submit_args = ' --driver-memory ' + memory  +' pyspark-shell' +\" --num-executors 15 --executor-cores 8\"\n",
    "os.environ[\"PYSPARK_SUBMIT_ARGS\"] = pyspark_submit_args\n",
    "import numpy as np\n",
    "from collections import Counter\n",
    "from HyperLogLog import Hyperloglog as hll\n",
    "from HyperLogLog import Countsketch\n",
    "from HyperLogLog import Data2sketchplus\n",
    "import time\n",
    "import pandas as pd\n",
    "import pickle\n",
    "import math\n",
    "import random\n",
    "import findspark\n",
    "findspark.init()\n",
    "from pyspark import SparkContext\n",
    "\n",
    "sc=SparkContext(master=\"spark://Master:17077\",appName=\"test\")\n",
    "#sc=SparkContext(appName=\"test\")\n",
    "sc._conf.set(\"spark.driver.maxResultSize\", '50g')"
   ]
  },
  {
   "cell_type": "code",
   "execution_count": 2,
   "metadata": {},
   "outputs": [],
   "source": [
    "def TransData(partition):\n",
    "    level=1\n",
    "    D2S=Data2sketchplus(width,level)\n",
    "    D2S.ScanString([item.encode(\"utf-8\") for item in partition])\n",
    "    Item=[item.encode(\"utf-8\") for item in partition]\n",
    "    yield [[D2S.fiArray(i) for i in range(level)],D2S.NDVArray(),D2S.CSArray()]\n",
    "def HatC(n,f1):\n",
    "    return 1.0-f1/n\n",
    "def DCL(ndv,i2fi,n,f1):\n",
    "    hc=HatC(n,f1)\n",
    "    d1hat=ndv/hc\n",
    "    gamma=max(0, d1hat*(i2fi-n)/(n^2-n-1))\n",
    "    return ndv/hc+n*(1-hc)/hc*gamma\n",
    "def partComputef1(ss):\n",
    "    sketch=pickle.loads(b.value)\n",
    "    f1=0\n",
    "    for s in ss:\n",
    "        f1t=Computef1(sketch,s)\n",
    "        f1+=f1t\n",
    "    yield f1\n",
    "def Computef1(SKList,F1ID):\n",
    "    k_mechine=len(SKList)\n",
    "    ZeroSketch=hll(width)\n",
    "    IntersetID=[]\n",
    "    for i in range(k_mechine):\n",
    "        if i!=F1ID:\n",
    "            ZeroSketch.update(SKList[i][1])\n",
    "    MergeSketch=hll(width)\n",
    "    MergeSketch.update(SKList[F1ID][0][0])\n",
    "    f1=MergeSketch.estimate()\n",
    "    MergeSketch.update(ZeroSketch.Array())\n",
    "    f1pure=MergeSketch.estimate()-ZeroSketch.estimate()\n",
    "    return f1pure"
   ]
  },
  {
   "cell_type": "code",
   "execution_count": 4,
   "metadata": {},
   "outputs": [
    {
     "data": {
      "text/plain": [
       "'444087624'"
      ]
     },
     "execution_count": 4,
     "metadata": {},
     "output_type": "execute_result"
    }
   ],
   "source": [
    "file1rdd=sc.textFile('/user/poi/poi-50-1kww/poi-50-1kww')\n",
    "file1rdd.first()"
   ]
  },
  {
   "cell_type": "code",
   "execution_count": 4,
   "metadata": {},
   "outputs": [
    {
     "name": "stdout",
     "output_type": "stream",
     "text": [
      "count n time: 28.732884645462036\n",
      "n: 1000032019\n"
     ]
    }
   ],
   "source": [
    "begin=time.time()\n",
    "n=file1rdd.count()\n",
    "end=time.time()\n",
    "print(\"count n time:\",end-begin)\n",
    "print(\"n:\",n)\n",
    "width=16\n",
    "q=0.01"
   ]
  },
  {
   "cell_type": "code",
   "execution_count": 11,
   "metadata": {},
   "outputs": [
    {
     "name": "stdout",
     "output_type": "stream",
     "text": [
      "Collect Time: 41.18265962600708\n"
     ]
    }
   ],
   "source": [
    "begin=time.time()\n",
    "part_dict = file1rdd.mapPartitions(TransData)\n",
    "a=part_dict.collect()\n",
    "end=time.time()\n",
    "print(\"Collect Time:\",end-begin)"
   ]
  },
  {
   "cell_type": "code",
   "execution_count": 12,
   "metadata": {},
   "outputs": [
    {
     "name": "stdout",
     "output_type": "stream",
     "text": [
      "DCL1 time: 3.4090662002563477\n",
      "d: 787267195.931828\n",
      "f1: 605086523.0236659\n",
      "DCL1: 1993420387.018037\n"
     ]
    }
   ],
   "source": [
    "begin=time.time()\n",
    "NDVhll=hll(width)\n",
    "for i in a:\n",
    "    NDVhll.update(i[1])\n",
    "NDV=NDVhll.estimate()\n",
    "csall=Countsketch(0.01,0.1)\n",
    "for c in a:\n",
    "    csall.update(c[2])\n",
    "i2fi=csall.estimatef2()\n",
    "Part_num=len(a)\n",
    "for i in range(Part_num):\n",
    "    del a[i][2]\n",
    "b=sc.broadcast(pickle.dumps(a))\n",
    "Aimrdd=sc.parallelize([i for i in range(Part_num)])\n",
    "result=Aimrdd.mapPartitions(partComputef1).collect()\n",
    "f1=sum(result)\n",
    "DDCL1=DCL(NDV,i2fi,n,f1)\n",
    "DCL1time=time.time()\n",
    "print(\"DCL1 time:\",DCL1time-begin)\n",
    "print(\"d:\",NDV)\n",
    "print(\"f1:\",f1)\n",
    "print(\"DCL1:\",DDCL1)"
   ]
  },
  {
   "cell_type": "code",
   "execution_count": 13,
   "metadata": {},
   "outputs": [
    {
     "name": "stdout",
     "output_type": "stream",
     "text": [
      "count n time: 77.85217380523682\n",
      "n: 5000084437\n",
      "Collect Time: 124.36372470855713\n",
      "DCL1 time: 12.876952886581421\n",
      "d: 3971129021.0032535\n",
      "f1: 3104075342.728803\n",
      "DCL1: 10472513278.144278\n"
     ]
    }
   ],
   "source": [
    "file1rdd=sc.textFile('/user/poi/poi-50-5kww/')\n",
    "begin=time.time()\n",
    "n=file1rdd.count()\n",
    "end=time.time()\n",
    "print(\"count n time:\",end-begin)\n",
    "print(\"n:\",n)\n",
    "width=16\n",
    "q=0.01\n",
    "begin=time.time()\n",
    "part_dict = file1rdd.mapPartitions(TransData)\n",
    "a=part_dict.collect()\n",
    "end=time.time()\n",
    "print(\"Collect Time:\",end-begin)\n",
    "begin=time.time()\n",
    "NDVhll=hll(width)\n",
    "for i in a:\n",
    "    NDVhll.update(i[1])\n",
    "NDV=NDVhll.estimate()\n",
    "csall=Countsketch(0.01,0.1)\n",
    "for c in a:\n",
    "    csall.update(c[2])\n",
    "i2fi=csall.estimatef2()\n",
    "Part_num=len(a)\n",
    "for i in range(Part_num):\n",
    "    del a[i][2]\n",
    "b=sc.broadcast(pickle.dumps(a))\n",
    "Aimrdd=sc.parallelize([i for i in range(Part_num)])\n",
    "result=Aimrdd.mapPartitions(partComputef1).collect()\n",
    "f1=sum(result)\n",
    "DDCL1=DCL(NDV,i2fi,n,f1)\n",
    "DCL1time=time.time()\n",
    "print(\"DCL1 time:\",DCL1time-begin)\n",
    "print(\"d:\",NDV)\n",
    "print(\"f1:\",f1)\n",
    "print(\"DCL1:\",DDCL1)"
   ]
  },
  {
   "cell_type": "code",
   "execution_count": 3,
   "metadata": {},
   "outputs": [
    {
     "name": "stdout",
     "output_type": "stream",
     "text": [
      "count n time: 29.20608401298523\n",
      "n: 999945681\n",
      "Collect Time: 46.57390737533569\n",
      "DCL1 time: 3.209986686706543\n",
      "d: 630873465.38572\n",
      "f1: 362534116.03174114\n",
      "DCL1: 989688972.7775296\n"
     ]
    }
   ],
   "source": [
    "file1rdd=sc.textFile('/user/poi/poi-100-1kww/poi-100-1kww')\n",
    "begin=time.time()\n",
    "n=file1rdd.count()\n",
    "end=time.time()\n",
    "print(\"count n time:\",end-begin)\n",
    "print(\"n:\",n)\n",
    "width=16\n",
    "q=0.01\n",
    "begin=time.time()\n",
    "part_dict = file1rdd.mapPartitions(TransData)\n",
    "a=part_dict.collect()\n",
    "end=time.time()\n",
    "print(\"Collect Time:\",end-begin)\n",
    "begin=time.time()\n",
    "NDVhll=hll(width)\n",
    "for i in a:\n",
    "    NDVhll.update(i[1])\n",
    "NDV=NDVhll.estimate()\n",
    "csall=Countsketch(0.01,0.1)\n",
    "for c in a:\n",
    "    csall.update(c[2])\n",
    "i2fi=csall.estimatef2()\n",
    "Part_num=len(a)\n",
    "for i in range(Part_num):\n",
    "    del a[i][2]\n",
    "b=sc.broadcast(pickle.dumps(a))\n",
    "Aimrdd=sc.parallelize([i for i in range(Part_num)])\n",
    "result=Aimrdd.mapPartitions(partComputef1).collect()\n",
    "f1=sum(result)\n",
    "DDCL1=DCL(NDV,i2fi,n,f1)\n",
    "DCL1time=time.time()\n",
    "print(\"DCL1 time:\",DCL1time-begin)\n",
    "print(\"d:\",NDV)\n",
    "print(\"f1:\",f1)\n",
    "print(\"DCL1:\",DDCL1)"
   ]
  },
  {
   "cell_type": "code",
   "execution_count": 4,
   "metadata": {},
   "outputs": [
    {
     "name": "stdout",
     "output_type": "stream",
     "text": [
      "count n time: 98.67343759536743\n",
      "n: 5000013559\n",
      "Collect Time: 141.27398657798767\n",
      "DCL1 time: 13.502843379974365\n",
      "d: 3193044247.025442\n",
      "f1: 1881753362.694775\n",
      "DCL1: 5119926986.378858\n"
     ]
    }
   ],
   "source": [
    "file1rdd=sc.textFile('/user/poi/poi-100-5kww/poi-100-5kww')\n",
    "begin=time.time()\n",
    "n=file1rdd.count()\n",
    "end=time.time()\n",
    "print(\"count n time:\",end-begin)\n",
    "print(\"n:\",n)\n",
    "width=16\n",
    "q=0.01\n",
    "begin=time.time()\n",
    "part_dict = file1rdd.mapPartitions(TransData)\n",
    "a=part_dict.collect()\n",
    "end=time.time()\n",
    "print(\"Collect Time:\",end-begin)\n",
    "begin=time.time()\n",
    "NDVhll=hll(width)\n",
    "for i in a:\n",
    "    NDVhll.update(i[1])\n",
    "NDV=NDVhll.estimate()\n",
    "csall=Countsketch(0.01,0.1)\n",
    "for c in a:\n",
    "    csall.update(c[2])\n",
    "i2fi=csall.estimatef2()\n",
    "Part_num=len(a)\n",
    "for i in range(Part_num):\n",
    "    del a[i][2]\n",
    "b=sc.broadcast(pickle.dumps(a))\n",
    "Aimrdd=sc.parallelize([i for i in range(Part_num)])\n",
    "result=Aimrdd.mapPartitions(partComputef1).collect()\n",
    "f1=sum(result)\n",
    "DDCL1=DCL(NDV,i2fi,n,f1)\n",
    "DCL1time=time.time()\n",
    "print(\"DCL1 time:\",DCL1time-begin)\n",
    "print(\"d:\",NDV)\n",
    "print(\"f1:\",f1)\n",
    "print(\"DCL1:\",DDCL1)"
   ]
  },
  {
   "cell_type": "code",
   "execution_count": 5,
   "metadata": {},
   "outputs": [
    {
     "name": "stdout",
     "output_type": "stream",
     "text": [
      "count n time: 27.6564838886261\n",
      "n: 999956736\n",
      "Collect Time: 47.4516818523407\n",
      "DCL1 time: 2.8113203048706055\n",
      "d: 431816663.14697224\n",
      "f1: 131990409.25469714\n",
      "DCL1: 497482411.155295\n"
     ]
    }
   ],
   "source": [
    "file1rdd=sc.textFile('/user/poi/poi-200-1kww/poi-200-1kww')\n",
    "begin=time.time()\n",
    "n=file1rdd.count()\n",
    "end=time.time()\n",
    "print(\"count n time:\",end-begin)\n",
    "print(\"n:\",n)\n",
    "width=16\n",
    "q=0.01\n",
    "begin=time.time()\n",
    "part_dict = file1rdd.mapPartitions(TransData)\n",
    "a=part_dict.collect()\n",
    "end=time.time()\n",
    "print(\"Collect Time:\",end-begin)\n",
    "begin=time.time()\n",
    "NDVhll=hll(width)\n",
    "for i in a:\n",
    "    NDVhll.update(i[1])\n",
    "NDV=NDVhll.estimate()\n",
    "csall=Countsketch(0.01,0.1)\n",
    "for c in a:\n",
    "    csall.update(c[2])\n",
    "i2fi=csall.estimatef2()\n",
    "Part_num=len(a)\n",
    "for i in range(Part_num):\n",
    "    del a[i][2]\n",
    "b=sc.broadcast(pickle.dumps(a))\n",
    "Aimrdd=sc.parallelize([i for i in range(Part_num)])\n",
    "result=Aimrdd.mapPartitions(partComputef1).collect()\n",
    "f1=sum(result)\n",
    "DDCL1=DCL(NDV,i2fi,n,f1)\n",
    "DCL1time=time.time()\n",
    "print(\"DCL1 time:\",DCL1time-begin)\n",
    "print(\"d:\",NDV)\n",
    "print(\"f1:\",f1)\n",
    "print(\"DCL1:\",DDCL1)"
   ]
  },
  {
   "cell_type": "code",
   "execution_count": 6,
   "metadata": {},
   "outputs": [
    {
     "name": "stdout",
     "output_type": "stream",
     "text": [
      "count n time: 99.46901178359985\n",
      "n: 5000041249\n",
      "Collect Time: 144.3686022758484\n",
      "DCL1 time: 12.575514793395996\n",
      "d: 2187156266.37084\n",
      "f1: 695201508.3721356\n",
      "DCL1: 2540366705.5601068\n"
     ]
    }
   ],
   "source": [
    "file1rdd=sc.textFile('/user/poi/poi-200-5kww/poi-200-5kww')\n",
    "begin=time.time()\n",
    "n=file1rdd.count()\n",
    "end=time.time()\n",
    "print(\"count n time:\",end-begin)\n",
    "print(\"n:\",n)\n",
    "width=16\n",
    "q=0.01\n",
    "begin=time.time()\n",
    "part_dict = file1rdd.mapPartitions(TransData)\n",
    "a=part_dict.collect()\n",
    "end=time.time()\n",
    "print(\"Collect Time:\",end-begin)\n",
    "begin=time.time()\n",
    "NDVhll=hll(width)\n",
    "for i in a:\n",
    "    NDVhll.update(i[1])\n",
    "NDV=NDVhll.estimate()\n",
    "csall=Countsketch(0.01,0.1)\n",
    "for c in a:\n",
    "    csall.update(c[2])\n",
    "i2fi=csall.estimatef2()\n",
    "Part_num=len(a)\n",
    "for i in range(Part_num):\n",
    "    del a[i][2]\n",
    "b=sc.broadcast(pickle.dumps(a))\n",
    "Aimrdd=sc.parallelize([i for i in range(Part_num)])\n",
    "result=Aimrdd.mapPartitions(partComputef1).collect()\n",
    "f1=sum(result)\n",
    "DDCL1=DCL(NDV,i2fi,n,f1)\n",
    "DCL1time=time.time()\n",
    "print(\"DCL1 time:\",DCL1time-begin)\n",
    "print(\"d:\",NDV)\n",
    "print(\"f1:\",f1)\n",
    "print(\"DCL1:\",DDCL1)"
   ]
  },
  {
   "cell_type": "code",
   "execution_count": 14,
   "metadata": {},
   "outputs": [
    {
     "name": "stdout",
     "output_type": "stream",
     "text": [
      "count n time: 154.92816495895386\n",
      "n: 9999969413\n",
      "Collect Time: 246.10641264915466\n",
      "DCL1 time: 27.286706686019897\n",
      "d: 7925433568.293607\n",
      "f1: 6156811768.681699\n",
      "DCL1: 20622129145.51352\n"
     ]
    }
   ],
   "source": [
    "file1rdd=sc.textFile('/user/poi/poi-50-1www/poi-50-1www')\n",
    "begin=time.time()\n",
    "n=file1rdd.count()\n",
    "end=time.time()\n",
    "print(\"count n time:\",end-begin)\n",
    "print(\"n:\",n)\n",
    "width=16\n",
    "q=0.01\n",
    "begin=time.time()\n",
    "part_dict = file1rdd.mapPartitions(TransData)\n",
    "a=part_dict.collect()\n",
    "end=time.time()\n",
    "print(\"Collect Time:\",end-begin)\n",
    "begin=time.time()\n",
    "NDVhll=hll(width)\n",
    "for i in a:\n",
    "    NDVhll.update(i[1])\n",
    "NDV=NDVhll.estimate()\n",
    "csall=Countsketch(0.01,0.1)\n",
    "for c in a:\n",
    "    csall.update(c[2])\n",
    "i2fi=csall.estimatef2()\n",
    "Part_num=len(a)\n",
    "for i in range(Part_num):\n",
    "    del a[i][2]\n",
    "b=sc.broadcast(pickle.dumps(a))\n",
    "Aimrdd=sc.parallelize([i for i in range(Part_num)])\n",
    "result=Aimrdd.mapPartitions(partComputef1).collect()\n",
    "f1=sum(result)\n",
    "DDCL1=DCL(NDV,i2fi,n,f1)\n",
    "DCL1time=time.time()\n",
    "print(\"DCL1 time:\",DCL1time-begin)\n",
    "print(\"d:\",NDV)\n",
    "print(\"f1:\",f1)\n",
    "print(\"DCL1:\",DDCL1)"
   ]
  },
  {
   "cell_type": "code",
   "execution_count": 15,
   "metadata": {},
   "outputs": [
    {
     "name": "stdout",
     "output_type": "stream",
     "text": [
      "count n time: 23.224120140075684\n",
      "n: 999590784\n",
      "Collect Time: 43.67264199256897\n",
      "DCL1 time: 3.1156017780303955\n",
      "d: 982111665.846918\n",
      "f1: 970160533.4956743\n",
      "DCL1: 33357166630.13696\n"
     ]
    }
   ],
   "source": [
    "file1rdd=sc.textFile('/user/zipf/zipf-2-1kww/')\n",
    "begin=time.time()\n",
    "n=file1rdd.count()\n",
    "end=time.time()\n",
    "print(\"count n time:\",end-begin)\n",
    "print(\"n:\",n)\n",
    "width=16\n",
    "q=0.01\n",
    "begin=time.time()\n",
    "part_dict = file1rdd.mapPartitions(TransData)\n",
    "a=part_dict.collect()\n",
    "end=time.time()\n",
    "print(\"Collect Time:\",end-begin)\n",
    "begin=time.time()\n",
    "NDVhll=hll(width)\n",
    "for i in a:\n",
    "    NDVhll.update(i[1])\n",
    "NDV=NDVhll.estimate()\n",
    "csall=Countsketch(0.01,0.1)\n",
    "for c in a:\n",
    "    csall.update(c[2])\n",
    "i2fi=csall.estimatef2()\n",
    "Part_num=len(a)\n",
    "for i in range(Part_num):\n",
    "    del a[i][2]\n",
    "b=sc.broadcast(pickle.dumps(a))\n",
    "Aimrdd=sc.parallelize([i for i in range(Part_num)])\n",
    "result=Aimrdd.mapPartitions(partComputef1).collect()\n",
    "f1=sum(result)\n",
    "DDCL1=DCL(NDV,i2fi,n,f1)\n",
    "DCL1time=time.time()\n",
    "print(\"DCL1 time:\",DCL1time-begin)\n",
    "print(\"d:\",NDV)\n",
    "print(\"f1:\",f1)\n",
    "print(\"DCL1:\",DDCL1)"
   ]
  },
  {
   "cell_type": "code",
   "execution_count": 16,
   "metadata": {},
   "outputs": [
    {
     "name": "stdout",
     "output_type": "stream",
     "text": [
      "count n time: 79.1268265247345\n",
      "n: 4998045354\n",
      "Collect Time: 125.66408252716064\n",
      "DCL1 time: 16.92526340484619\n",
      "d: 4932968018.070068\n",
      "f1: 4846064639.790714\n",
      "DCL1: 162225832484.20703\n"
     ]
    }
   ],
   "source": [
    "file1rdd=sc.textFile('/user/zipf/zipf-2-5kww/')\n",
    "begin=time.time()\n",
    "n=file1rdd.count()\n",
    "end=time.time()\n",
    "print(\"count n time:\",end-begin)\n",
    "print(\"n:\",n)\n",
    "width=16\n",
    "q=0.01\n",
    "begin=time.time()\n",
    "part_dict = file1rdd.mapPartitions(TransData)\n",
    "a=part_dict.collect()\n",
    "end=time.time()\n",
    "print(\"Collect Time:\",end-begin)\n",
    "begin=time.time()\n",
    "NDVhll=hll(width)\n",
    "for i in a:\n",
    "    NDVhll.update(i[1])\n",
    "NDV=NDVhll.estimate()\n",
    "csall=Countsketch(0.01,0.1)\n",
    "for c in a:\n",
    "    csall.update(c[2])\n",
    "i2fi=csall.estimatef2()\n",
    "Part_num=len(a)\n",
    "for i in range(Part_num):\n",
    "    del a[i][2]\n",
    "b=sc.broadcast(pickle.dumps(a))\n",
    "Aimrdd=sc.parallelize([i for i in range(Part_num)])\n",
    "result=Aimrdd.mapPartitions(partComputef1).collect()\n",
    "f1=sum(result)\n",
    "DDCL1=DCL(NDV,i2fi,n,f1)\n",
    "DCL1time=time.time()\n",
    "print(\"DCL1 time:\",DCL1time-begin)\n",
    "print(\"d:\",NDV)\n",
    "print(\"f1:\",f1)\n",
    "print(\"DCL1:\",DDCL1)"
   ]
  },
  {
   "cell_type": "code",
   "execution_count": 17,
   "metadata": {},
   "outputs": [
    {
     "name": "stdout",
     "output_type": "stream",
     "text": [
      "count n time: 152.16044759750366\n",
      "n: 9926629697\n",
      "Collect Time: 243.78100538253784\n",
      "DCL1 time: 27.1193585395813\n",
      "d: 9819772637.430153\n",
      "f1: 9730099133.778145\n",
      "DCL1: 495990267785.801\n"
     ]
    }
   ],
   "source": [
    "file1rdd=sc.textFile('/user/zipf/zipf-2-1www/')\n",
    "begin=time.time()\n",
    "n=file1rdd.count()\n",
    "end=time.time()\n",
    "print(\"count n time:\",end-begin)\n",
    "print(\"n:\",n)\n",
    "width=16\n",
    "q=0.01\n",
    "begin=time.time()\n",
    "part_dict = file1rdd.mapPartitions(TransData)\n",
    "a=part_dict.collect()\n",
    "end=time.time()\n",
    "print(\"Collect Time:\",end-begin)\n",
    "begin=time.time()\n",
    "NDVhll=hll(width)\n",
    "for i in a:\n",
    "    NDVhll.update(i[1])\n",
    "NDV=NDVhll.estimate()\n",
    "csall=Countsketch(0.01,0.1)\n",
    "for c in a:\n",
    "    csall.update(c[2])\n",
    "i2fi=csall.estimatef2()\n",
    "Part_num=len(a)\n",
    "for i in range(Part_num):\n",
    "    del a[i][2]\n",
    "b=sc.broadcast(pickle.dumps(a))\n",
    "Aimrdd=sc.parallelize([i for i in range(Part_num)])\n",
    "result=Aimrdd.mapPartitions(partComputef1).collect()\n",
    "f1=sum(result)\n",
    "DDCL1=DCL(NDV,i2fi,n,f1)\n",
    "DCL1time=time.time()\n",
    "print(\"DCL1 time:\",DCL1time-begin)\n",
    "print(\"d:\",NDV)\n",
    "print(\"f1:\",f1)\n",
    "print(\"DCL1:\",DDCL1)"
   ]
  },
  {
   "cell_type": "code",
   "execution_count": 7,
   "metadata": {},
   "outputs": [
    {
     "name": "stdout",
     "output_type": "stream",
     "text": [
      "count n time: 23.322619676589966\n",
      "n: 865596872\n",
      "Collect Time: 36.94438457489014\n",
      "DCL1 time: 2.771010160446167\n",
      "d: 655250148.3287772\n",
      "f1: 585514758.601017\n",
      "DCL1: 2025057837.1027997\n"
     ]
    }
   ],
   "source": [
    "file1rdd=sc.textFile('/user/zipf/zipf-1.2-1kww/zipf-1.2-1kww')\n",
    "begin=time.time()\n",
    "n=file1rdd.count()\n",
    "end=time.time()\n",
    "print(\"count n time:\",end-begin)\n",
    "print(\"n:\",n)\n",
    "width=16\n",
    "q=0.01\n",
    "begin=time.time()\n",
    "part_dict = file1rdd.mapPartitions(TransData)\n",
    "a=part_dict.collect()\n",
    "end=time.time()\n",
    "print(\"Collect Time:\",end-begin)\n",
    "begin=time.time()\n",
    "NDVhll=hll(width)\n",
    "for i in a:\n",
    "    NDVhll.update(i[1])\n",
    "NDV=NDVhll.estimate()\n",
    "csall=Countsketch(0.01,0.1)\n",
    "for c in a:\n",
    "    csall.update(c[2])\n",
    "i2fi=csall.estimatef2()\n",
    "Part_num=len(a)\n",
    "for i in range(Part_num):\n",
    "    del a[i][2]\n",
    "b=sc.broadcast(pickle.dumps(a))\n",
    "Aimrdd=sc.parallelize([i for i in range(Part_num)])\n",
    "result=Aimrdd.mapPartitions(partComputef1).collect()\n",
    "f1=sum(result)\n",
    "DDCL1=DCL(NDV,i2fi,n,f1)\n",
    "DCL1time=time.time()\n",
    "print(\"DCL1 time:\",DCL1time-begin)\n",
    "print(\"d:\",NDV)\n",
    "print(\"f1:\",f1)\n",
    "print(\"DCL1:\",DDCL1)"
   ]
  },
  {
   "cell_type": "code",
   "execution_count": 8,
   "metadata": {},
   "outputs": [
    {
     "name": "stdout",
     "output_type": "stream",
     "text": [
      "count n time: 95.1595664024353\n",
      "n: 4327773138\n",
      "Collect Time: 135.31153464317322\n",
      "DCL1 time: 10.545452117919922\n",
      "d: 3306750588.4411817\n",
      "f1: 2976831549.4372725\n",
      "DCL1: 10593253247.867535\n"
     ]
    }
   ],
   "source": [
    "file1rdd=sc.textFile('/user/zipf/zipf-1.2-5kww/zipf-1.2-5kww')\n",
    "begin=time.time()\n",
    "n=file1rdd.count()\n",
    "end=time.time()\n",
    "print(\"count n time:\",end-begin)\n",
    "print(\"n:\",n)\n",
    "width=16\n",
    "q=0.01\n",
    "begin=time.time()\n",
    "part_dict = file1rdd.mapPartitions(TransData)\n",
    "a=part_dict.collect()\n",
    "end=time.time()\n",
    "print(\"Collect Time:\",end-begin)\n",
    "begin=time.time()\n",
    "NDVhll=hll(width)\n",
    "for i in a:\n",
    "    NDVhll.update(i[1])\n",
    "NDV=NDVhll.estimate()\n",
    "csall=Countsketch(0.01,0.1)\n",
    "for c in a:\n",
    "    csall.update(c[2])\n",
    "i2fi=csall.estimatef2()\n",
    "Part_num=len(a)\n",
    "for i in range(Part_num):\n",
    "    del a[i][2]\n",
    "b=sc.broadcast(pickle.dumps(a))\n",
    "Aimrdd=sc.parallelize([i for i in range(Part_num)])\n",
    "result=Aimrdd.mapPartitions(partComputef1).collect()\n",
    "f1=sum(result)\n",
    "DDCL1=DCL(NDV,i2fi,n,f1)\n",
    "DCL1time=time.time()\n",
    "print(\"DCL1 time:\",DCL1time-begin)\n",
    "print(\"d:\",NDV)\n",
    "print(\"f1:\",f1)\n",
    "print(\"DCL1:\",DDCL1)"
   ]
  },
  {
   "cell_type": "code",
   "execution_count": 9,
   "metadata": {},
   "outputs": [
    {
     "name": "stdout",
     "output_type": "stream",
     "text": [
      "count n time: 26.63609266281128\n",
      "n: 989663491\n",
      "Collect Time: 42.05757522583008\n",
      "DCL1 time: 3.004051685333252\n",
      "d: 910896606.9230926\n",
      "f1: 868141318.729684\n",
      "DCL1: 7418243922.946774\n"
     ]
    }
   ],
   "source": [
    "file1rdd=sc.textFile('/user/zipf/zipf-1.5-1kww/zipf-1.5-1kww')\n",
    "begin=time.time()\n",
    "n=file1rdd.count()\n",
    "end=time.time()\n",
    "print(\"count n time:\",end-begin)\n",
    "print(\"n:\",n)\n",
    "width=16\n",
    "q=0.01\n",
    "begin=time.time()\n",
    "part_dict = file1rdd.mapPartitions(TransData)\n",
    "a=part_dict.collect()\n",
    "end=time.time()\n",
    "print(\"Collect Time:\",end-begin)\n",
    "begin=time.time()\n",
    "NDVhll=hll(width)\n",
    "for i in a:\n",
    "    NDVhll.update(i[1])\n",
    "NDV=NDVhll.estimate()\n",
    "csall=Countsketch(0.01,0.1)\n",
    "for c in a:\n",
    "    csall.update(c[2])\n",
    "i2fi=csall.estimatef2()\n",
    "Part_num=len(a)\n",
    "for i in range(Part_num):\n",
    "    del a[i][2]\n",
    "b=sc.broadcast(pickle.dumps(a))\n",
    "Aimrdd=sc.parallelize([i for i in range(Part_num)])\n",
    "result=Aimrdd.mapPartitions(partComputef1).collect()\n",
    "f1=sum(result)\n",
    "DDCL1=DCL(NDV,i2fi,n,f1)\n",
    "DCL1time=time.time()\n",
    "print(\"DCL1 time:\",DCL1time-begin)\n",
    "print(\"d:\",NDV)\n",
    "print(\"f1:\",f1)\n",
    "print(\"DCL1:\",DDCL1)"
   ]
  },
  {
   "cell_type": "code",
   "execution_count": 10,
   "metadata": {},
   "outputs": [
    {
     "name": "stdout",
     "output_type": "stream",
     "text": [
      "count n time: 98.50645399093628\n",
      "n: 4948530006\n",
      "Collect Time: 142.88439559936523\n",
      "DCL1 time: 12.910451650619507\n",
      "d: 4591601310.620675\n",
      "f1: 4399408167.716371\n",
      "DCL1: 41378206578.3719\n"
     ]
    }
   ],
   "source": [
    "file1rdd=sc.textFile('/user/zipf/zipf-1.5-5kww/zipf-1.5-5kww')\n",
    "begin=time.time()\n",
    "n=file1rdd.count()\n",
    "end=time.time()\n",
    "print(\"count n time:\",end-begin)\n",
    "print(\"n:\",n)\n",
    "width=16\n",
    "q=0.01\n",
    "begin=time.time()\n",
    "part_dict = file1rdd.mapPartitions(TransData)\n",
    "a=part_dict.collect()\n",
    "end=time.time()\n",
    "print(\"Collect Time:\",end-begin)\n",
    "begin=time.time()\n",
    "NDVhll=hll(width)\n",
    "for i in a:\n",
    "    NDVhll.update(i[1])\n",
    "NDV=NDVhll.estimate()\n",
    "csall=Countsketch(0.01,0.1)\n",
    "for c in a:\n",
    "    csall.update(c[2])\n",
    "i2fi=csall.estimatef2()\n",
    "Part_num=len(a)\n",
    "for i in range(Part_num):\n",
    "    del a[i][2]\n",
    "b=sc.broadcast(pickle.dumps(a))\n",
    "Aimrdd=sc.parallelize([i for i in range(Part_num)])\n",
    "result=Aimrdd.mapPartitions(partComputef1).collect()\n",
    "f1=sum(result)\n",
    "DDCL1=DCL(NDV,i2fi,n,f1)\n",
    "DCL1time=time.time()\n",
    "print(\"DCL1 time:\",DCL1time-begin)\n",
    "print(\"d:\",NDV)\n",
    "print(\"f1:\",f1)\n",
    "print(\"DCL1:\",DDCL1)"
   ]
  },
  {
   "cell_type": "code",
   "execution_count": null,
   "metadata": {},
   "outputs": [],
   "source": []
  }
 ],
 "metadata": {
  "kernelspec": {
   "display_name": "Python 3",
   "language": "python",
   "name": "python3"
  },
  "language_info": {
   "codemirror_mode": {
    "name": "ipython",
    "version": 3
   },
   "file_extension": ".py",
   "mimetype": "text/x-python",
   "name": "python",
   "nbconvert_exporter": "python",
   "pygments_lexer": "ipython3",
   "version": "3.7.3"
  }
 },
 "nbformat": 4,
 "nbformat_minor": 2
}
